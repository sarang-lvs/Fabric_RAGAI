{
 "cells": [
  {
   "cell_type": "markdown",
   "id": "baf0b1cc",
   "metadata": {},
   "source": [
    "**Install required libraries**"
   ]
  },
  {
   "cell_type": "code",
   "execution_count": null,
   "id": "fe58d389-b3f8-4440-bf64-e4f97ad52f96",
   "metadata": {
    "jupyter": {
     "outputs_hidden": true
    },
    "microsoft": {
     "language": "python",
     "language_group": "synapse_pyspark"
    }
   },
   "outputs": [],
   "source": [
    "# install required libraries\n",
    "%pip install azure-ai-documentintelligence\n",
    "%pip install openai azure-kusto-data langchain tenacity langchain-openai pypdf\n",
    "%pip install -qU langchain_community pypdf\n",
    "%pip install openai==1.55.3 httpx==0.27.2 --force-reinstall --quiet\n",
    "%pip install --upgrade certifi"
   ]
  },
  {
   "cell_type": "code",
   "execution_count": null,
   "id": "1a1368d7-77d9-4b3c-97d4-62246e951146",
   "metadata": {
    "microsoft": {
     "language": "python",
     "language_group": "synapse_pyspark"
    }
   },
   "outputs": [],
   "source": [
    "from openai import AzureOpenAI\n",
    "from IPython.display import display, HTML\n",
    "import os\n",
    "import textwrap\n",
    "import json\n",
    "from notebookutils import mssparkutils\n",
    "from tenacity import retry, wait_random_exponential, stop_after_attempt\n",
    "\n",
    "# import from kusto\n",
    "from azure.kusto.data import KustoClient, KustoConnectionStringBuilder\n",
    "from azure.kusto.data.exceptions import KustoServiceError\n",
    "from azure.kusto.data.helpers import dataframe_from_result_table\n",
    "#import from langchain\n",
    "from langchain.text_splitter import CharacterTextSplitter, RecursiveCharacterTextSplitter\n",
    "from langchain_openai import AzureOpenAIEmbeddings\n",
    "from langchain_community.document_loaders import PyPDFLoader\n"
   ]
  },
  {
   "cell_type": "markdown",
   "id": "5d232514-aff3-4040-9404-0611c759ec31",
   "metadata": {
    "microsoft": {
     "language": "python",
     "language_group": "synapse_pyspark"
    },
    "nteract": {
     "transient": {
      "deleting": false
     }
    }
   },
   "source": [
    "**Get Keys for Azure and Fabric Services from Key Vault**"
   ]
  },
  {
   "cell_type": "code",
   "execution_count": null,
   "id": "435153e7-a004-4f4a-9424-13b484eeb1df",
   "metadata": {
    "microsoft": {
     "language": "python",
     "language_group": "synapse_pyspark"
    }
   },
   "outputs": [],
   "source": [
    "AZURE_OPENAI_KEY = mssparkutils.credentials.getSecret('https://<YOUR_AZURE_KEYVAULT>.vault.azure.net/','azureopenaikey')\n",
    "\n",
    "AZURE_OPENAI_GPT4o_DEPLOYMENT_NAME = 'gpt-4o'\n",
    "AZURE_OPENAI_GPT4o_ENDPOINT = mssparkutils.credentials.getSecret('https://<YOUR_AZURE_KEYVAULT>.vault.azure.net/','gpt4omodeluri')\n",
    "\n",
    "AZURE_OPENAI_EMBEDDING_DEPLOYMENT_NAME = 'text-embedding-ada-002'\n",
    "AZURE_OPENAI_EMBEDDING_ENDPOINT = mssparkutils.credentials.getSecret('https://<YOUR_AZURE_KEYVAULT>.vault.azure.net/','adaembeddingmodeluri')\n",
    "\n",
    "KUSTO_URI = mssparkutils.credentials.getSecret('https://<YOUR_AZURE_KEYVAULT>.vault.azure.net/','kustoqueryuri')\n",
    "KUSTO_DATABASE = mssparkutils.credentials.getSecret('https://<YOUR_AZURE_KEYVAULT>.vault.azure.net/','kustodbname')\n",
    "KUSTO_TABLE = \"embeddings1\" # table name used in this code, but you can choose any name\n",
    "KDB_ACCESSTOKEN = mssparkutils.credentials.getToken(KUSTO_URI)\n"
   ]
  },
  {
   "cell_type": "markdown",
   "id": "343ecf60-fe31-4974-98bc-c42dfb34f182",
   "metadata": {
    "microsoft": {
     "language": "python",
     "language_group": "synapse_pyspark"
    },
    "nteract": {
     "transient": {
      "deleting": false
     }
    }
   },
   "source": [
    "**Create Azure OpenAI client**"
   ]
  },
  {
   "cell_type": "code",
   "execution_count": null,
   "id": "8d5d5e44-cba3-4af5-9ef3-9338c31673c5",
   "metadata": {
    "microsoft": {
     "language": "python",
     "language_group": "synapse_pyspark"
    }
   },
   "outputs": [],
   "source": [
    "client = AzureOpenAI(\n",
    "    azure_endpoint=AZURE_OPENAI_GPT4o_ENDPOINT,\n",
    "    api_key=AZURE_OPENAI_KEY, \n",
    "    api_version= \"2024-08-01-preview\"\n",
    "    \n",
    ")\n",
    "\n",
    "\n"
   ]
  },
  {
   "cell_type": "code",
   "execution_count": null,
   "id": "fac51f5f-f2d0-4e83-bef5-d4e2b4c5bc9a",
   "metadata": {
    "microsoft": {
     "language": "python",
     "language_group": "synapse_pyspark"
    }
   },
   "outputs": [],
   "source": [
    "\n",
    "# create delay\n",
    "@retry(wait=wait_random_exponential(min=1, max= 20), stop=stop_after_attempt(6))\n",
    "\n",
    "def generate_embeddings(text):\n",
    "    # Ensure the text is a string and replace new lines with spaces\n",
    "    if not isinstance(text, str):\n",
    "        raise ValueError(\"Input text must be a string\")\n",
    "\n",
    "    txt = text.replace(\"\\n\", \" \")\n",
    "\n",
    "    # Generate embeddings using the client\n",
    "    try:\n",
    "        response = client.embeddings.create(input=[txt], model=AZURE_OPENAI_EMBEDDING_DEPLOYMENT_NAME)\n",
    "        embedding = response.data[0].embedding\n",
    "        return embedding\n",
    "    except Exception as e:\n",
    "        print(f\"Error generating embeddings: {e}\")\n",
    "        raise\n"
   ]
  },
  {
   "cell_type": "markdown",
   "id": "e9c80e5b-e163-494a-aefb-d17508d0477e",
   "metadata": {
    "microsoft": {
     "language": "python",
     "language_group": "synapse_pyspark"
    },
    "nteract": {
     "transient": {
      "deleting": false
     }
    }
   },
   "source": [
    "**Create embeddings**"
   ]
  },
  {
   "cell_type": "code",
   "execution_count": 29,
   "id": "94c1e588-73fc-4d5f-9346-77befa216f69",
   "metadata": {
    "editable": false,
    "microsoft": {
     "language": "python",
     "language_group": "synapse_pyspark"
    },
    "run_control": {
     "frozen": true
    }
   },
   "outputs": [
    {
     "data": {
      "application/vnd.livy.statement-meta+json": {
       "execution_finish_time": "2025-02-18T05:09:13.4495252Z",
       "execution_start_time": "2025-02-18T05:09:06.8719769Z",
       "livy_statement_state": "available",
       "normalized_state": "finished",
       "parent_msg_id": "28672297-46c0-4fb8-b17d-d14356bbcbc4",
       "queued_time": "2025-02-18T05:09:06.6359828Z",
       "session_id": "256818ca-a4a0-4a3e-9d94-7c6ad228cdfd",
       "session_start_time": null,
       "spark_pool": null,
       "state": "finished",
       "statement_id": 55,
       "statement_ids": [
        55
       ]
      },
      "text/plain": [
       "StatementMeta(, 256818ca-a4a0-4a3e-9d94-7c6ad228cdfd, 55, Finished, Available, Finished)"
      ]
     },
     "metadata": {},
     "output_type": "display_data"
    },
    {
     "name": "stdout",
     "output_type": "stream",
     "text": [
      "Number of pages:  313\n"
     ]
    }
   ],
   "source": [
    "# splitting into chunks with overlap\n",
    "\n",
    "splitter = RecursiveCharacterTextSplitter(\n",
    "    chunk_size = 1000, \n",
    "    chunk_overlap = 20\n",
    ")\n",
    "\n",
    "documentname = \"report_2024\"\n",
    "filename = \"/lakehouse/default/Files/Microsoft-2024-Environmental-Sustainability-Report.pdf\"\n",
    "loader = PyPDFLoader(filename)\n",
    "pages = loader.load_and_split(text_splitter=splitter)\n",
    "print(\"Number of pages: \", len(pages))"
   ]
  },
  {
   "cell_type": "code",
   "execution_count": 14,
   "id": "cd5e19b5-abf6-433a-a606-d1ca56ee70f5",
   "metadata": {
    "microsoft": {
     "language": "python",
     "language_group": "synapse_pyspark"
    }
   },
   "outputs": [
    {
     "data": {
      "application/vnd.livy.statement-meta+json": {
       "execution_finish_time": "2025-03-25T19:52:14.6095935Z",
       "execution_start_time": "2025-03-25T19:51:53.9204611Z",
       "livy_statement_state": "available",
       "normalized_state": "finished",
       "parent_msg_id": "a5d9d46a-27c3-462c-ac5b-dd1d2f2e1e2c",
       "queued_time": "2025-03-25T19:51:53.918831Z",
       "session_id": "480aa9fb-fac0-4f6e-9a9c-313e347a6bf9",
       "session_start_time": null,
       "spark_pool": null,
       "state": "finished",
       "statement_id": 32,
       "statement_ids": [
        32
       ]
      },
      "text/plain": [
       "StatementMeta(, 480aa9fb-fac0-4f6e-9a9c-313e347a6bf9, 32, Finished, Available, Finished)"
      ]
     },
     "metadata": {},
     "output_type": "display_data"
    },
    {
     "name": "stdout",
     "output_type": "stream",
     "text": [
      "Number of pages:  280\n"
     ]
    }
   ],
   "source": [
    "splitter = RecursiveCharacterTextSplitter(\n",
    "    chunk_size = 1000, \n",
    "    chunk_overlap = 20\n",
    ")\n",
    "\n",
    "documentname = \"report_2022\"\n",
    "filename = \"/lakehouse/default/Files/2022-Environmental-Sustainability-Report.pdf\"\n",
    "loader = PyPDFLoader(filename)\n",
    "pages = loader.load_and_split(text_splitter=splitter)\n",
    "print(\"Number of pages: \", len(pages))"
   ]
  },
  {
   "cell_type": "markdown",
   "id": "af382817-1376-49e0-8f3c-1a03fb2f222b",
   "metadata": {
    "microsoft": {
     "language": "python",
     "language_group": "synapse_pyspark"
    },
    "nteract": {
     "transient": {
      "deleting": false
     }
    }
   },
   "source": [
    "**Save pages in a dataframe**"
   ]
  },
  {
   "cell_type": "code",
   "execution_count": 15,
   "id": "3628bfc5-a9b6-46c2-afed-8469561310cf",
   "metadata": {
    "microsoft": {
     "language": "python",
     "language_group": "synapse_pyspark"
    }
   },
   "outputs": [
    {
     "data": {
      "application/vnd.livy.statement-meta+json": {
       "execution_finish_time": "2025-03-25T19:52:52.97776Z",
       "execution_start_time": "2025-03-25T19:52:52.0065746Z",
       "livy_statement_state": "available",
       "normalized_state": "finished",
       "parent_msg_id": "15bd6fb9-50b2-41d1-ac02-881269aa32b5",
       "queued_time": "2025-03-25T19:52:52.0050205Z",
       "session_id": "480aa9fb-fac0-4f6e-9a9c-313e347a6bf9",
       "session_start_time": null,
       "spark_pool": null,
       "state": "finished",
       "statement_id": 33,
       "statement_ids": [
        33
       ]
      },
      "text/plain": [
       "StatementMeta(, 480aa9fb-fac0-4f6e-9a9c-313e347a6bf9, 33, Finished, Available, Finished)"
      ]
     },
     "metadata": {},
     "output_type": "display_data"
    },
    {
     "data": {
      "text/html": [
       "<div>\n",
       "<style scoped>\n",
       "    .dataframe tbody tr th:only-of-type {\n",
       "        vertical-align: middle;\n",
       "    }\n",
       "\n",
       "    .dataframe tbody tr th {\n",
       "        vertical-align: top;\n",
       "    }\n",
       "\n",
       "    .dataframe thead th {\n",
       "        text-align: right;\n",
       "    }\n",
       "</style>\n",
       "<table border=\"1\" class=\"dataframe\">\n",
       "  <thead>\n",
       "    <tr style=\"text-align: right;\">\n",
       "      <th></th>\n",
       "      <th>document_name</th>\n",
       "      <th>content</th>\n",
       "      <th>embedding</th>\n",
       "    </tr>\n",
       "  </thead>\n",
       "  <tbody>\n",
       "    <tr>\n",
       "      <th>0</th>\n",
       "      <td>report_2022</td>\n",
       "      <td>2022 \\nEnvironmental \\nSustainability \\nReport...</td>\n",
       "      <td></td>\n",
       "    </tr>\n",
       "    <tr>\n",
       "      <th>1</th>\n",
       "      <td>report_2022</td>\n",
       "      <td>Color Palette\\nNames are TBC\\nContents\\nOvervi...</td>\n",
       "      <td></td>\n",
       "    </tr>\n",
       "    <tr>\n",
       "      <th>2</th>\n",
       "      <td>report_2022</td>\n",
       "      <td>and green skilling \\n76\\nAppendix \\nAppendix A...</td>\n",
       "      <td></td>\n",
       "    </tr>\n",
       "    <tr>\n",
       "      <th>3</th>\n",
       "      <td>report_2022</td>\n",
       "      <td>Overview\\nReviewing our 2022 \\nprogress and le...</td>\n",
       "      <td></td>\n",
       "    </tr>\n",
       "    <tr>\n",
       "      <th>4</th>\n",
       "      <td>report_2022</td>\n",
       "      <td>Foreword\\nEnabling sustainability for our comp...</td>\n",
       "      <td></td>\n",
       "    </tr>\n",
       "  </tbody>\n",
       "</table>\n",
       "</div>"
      ],
      "text/plain": [
       "  document_name                                            content embedding\n",
       "0   report_2022  2022 \\nEnvironmental \\nSustainability \\nReport...          \n",
       "1   report_2022  Color Palette\\nNames are TBC\\nContents\\nOvervi...          \n",
       "2   report_2022  and green skilling \\n76\\nAppendix \\nAppendix A...          \n",
       "3   report_2022  Overview\\nReviewing our 2022 \\nprogress and le...          \n",
       "4   report_2022  Foreword\\nEnabling sustainability for our comp...          "
      ]
     },
     "execution_count": 34,
     "metadata": {},
     "output_type": "execute_result"
    }
   ],
   "source": [
    "import pandas as pd\n",
    "df = pd.DataFrame(columns=['document_name', 'content', 'embedding'])\n",
    "for page in pages:\n",
    "    df.loc[len(df.index)]= [documentname, page.page_content,\"\"]\n",
    "\n",
    "df.head()"
   ]
  },
  {
   "cell_type": "markdown",
   "id": "c265887a-3880-4961-ae49-a3e56d9c25a5",
   "metadata": {
    "microsoft": {
     "language": "python",
     "language_group": "synapse_pyspark"
    },
    "nteract": {
     "transient": {
      "deleting": false
     }
    }
   },
   "source": [
    "**Embeddings using Azure OpenAI embedding model Ada**"
   ]
  },
  {
   "cell_type": "code",
   "execution_count": 16,
   "id": "c640e88a-811e-43bb-8c0d-51430f28d56b",
   "metadata": {
    "microsoft": {
     "language": "python",
     "language_group": "synapse_pyspark"
    }
   },
   "outputs": [
    {
     "data": {
      "application/vnd.livy.statement-meta+json": {
       "execution_finish_time": "2025-03-25T19:53:38.5586761Z",
       "execution_start_time": "2025-03-25T19:53:11.4024822Z",
       "livy_statement_state": "available",
       "normalized_state": "finished",
       "parent_msg_id": "6d013328-7b66-463b-868e-af0f4b83484b",
       "queued_time": "2025-03-25T19:53:11.4008725Z",
       "session_id": "480aa9fb-fac0-4f6e-9a9c-313e347a6bf9",
       "session_start_time": null,
       "spark_pool": null,
       "state": "finished",
       "statement_id": 34,
       "statement_ids": [
        34
       ]
      },
      "text/plain": [
       "StatementMeta(, 480aa9fb-fac0-4f6e-9a9c-313e347a6bf9, 34, Finished, Available, Finished)"
      ]
     },
     "metadata": {},
     "output_type": "display_data"
    },
    {
     "name": "stdout",
     "output_type": "stream",
     "text": [
      "  document_name                                            content  \\\n",
      "0   report_2022  2022 \\nEnvironmental \\nSustainability \\nReport...   \n",
      "1   report_2022  Color Palette\\nNames are TBC\\nContents\\nOvervi...   \n",
      "\n",
      "                                           embedding  \n",
      "0  [-0.0016355628613382578, -0.021236147731542587...  \n",
      "1  [0.016158754006028175, -0.02216360718011856, -...  \n"
     ]
    }
   ],
   "source": [
    "df[\"embedding\"] = df.content.apply(lambda x: generate_embeddings(x) )\n",
    "print(df.head(2))"
   ]
  },
  {
   "cell_type": "markdown",
   "id": "d689b070",
   "metadata": {},
   "source": [
    "**Write Spark Dataframe into Kusto Table**"
   ]
  },
  {
   "cell_type": "code",
   "execution_count": 60,
   "id": "131fa525-1461-408b-a759-6fce7672b752",
   "metadata": {
    "microsoft": {
     "language": "python",
     "language_group": "synapse_pyspark"
    }
   },
   "outputs": [
    {
     "data": {
      "application/vnd.livy.statement-meta+json": {
       "execution_finish_time": "2025-02-18T05:46:30.6494686Z",
       "execution_start_time": "2025-02-18T05:44:54.0956778Z",
       "livy_statement_state": "available",
       "normalized_state": "finished",
       "parent_msg_id": "18766e62-b058-434f-b37e-c5093a581525",
       "queued_time": "2025-02-18T05:44:53.9318237Z",
       "session_id": "256818ca-a4a0-4a3e-9d94-7c6ad228cdfd",
       "session_start_time": null,
       "spark_pool": null,
       "state": "finished",
       "statement_id": 86,
       "statement_ids": [
        86
       ]
      },
      "text/plain": [
       "StatementMeta(, 256818ca-a4a0-4a3e-9d94-7c6ad228cdfd, 86, Finished, Available, Finished)"
      ]
     },
     "metadata": {},
     "output_type": "display_data"
    },
    {
     "name": "stdout",
     "output_type": "stream",
     "text": [
      "DataFrame successfully written to Kusto table.\n"
     ]
    }
   ],
   "source": [
    "from pyspark.sql import SparkSession\n",
    "\n",
    "# Initialize Spark session with Kusto connector\n",
    "spark = SparkSession.builder \\\n",
    "    .appName(\"KustoSparkConnector\") \\\n",
    "    .config(\"spark.jars.packages\", \"com.microsoft.azure.kusto:spark-kusto-connector:1.0.0\") \\\n",
    "    .getOrCreate()\n",
    "\n",
    "# Ensure df is a valid Pandas DataFrame or collection\n",
    "try:\n",
    "    df_spark = spark.createDataFrame(df)\n",
    "except Exception as e:\n",
    "    print(f\"Error creating Spark DataFrame: {e}\")\n",
    "    raise\n",
    "\n",
    "# Write DataFrame to Kusto\n",
    "try:\n",
    "    df_spark.write \\\n",
    "        .format(\"com.microsoft.kusto.spark.synapse.datasource\") \\\n",
    "        .option(\"kustoCluster\", KUSTO_URI) \\\n",
    "        .option(\"kustoDatabase\", KUSTO_DATABASE) \\\n",
    "        .option(\"kustoTable\", KUSTO_TABLE) \\\n",
    "        .option(\"kustoAuthenticationMode\", \"AADToken\") \\\n",
    "        .option(\"accessToken\", KDB_ACCESSTOKEN) \\\n",
    "        .mode(\"Append\") \\\n",
    "        .save()\n",
    "    print(\"DataFrame successfully written to Kusto table.\")\n",
    "except Exception as e:\n",
    "    print(f\"Error writing DataFrame to Kusto: {e}\")\n",
    "    raise\n"
   ]
  },
  {
   "cell_type": "markdown",
   "id": "85cd9d0e-9c78-4b18-914a-7c6a68afdaa6",
   "metadata": {
    "microsoft": {
     "language": "python",
     "language_group": "synapse_pyspark"
    },
    "nteract": {
     "transient": {
      "deleting": false
     }
    }
   },
   "source": [
    "**Vector Search with Fabric Eventhouse**"
   ]
  },
  {
   "cell_type": "code",
   "execution_count": 17,
   "id": "93ff6a67-5707-454f-9eb3-e03124ddb191",
   "metadata": {
    "microsoft": {
     "language": "python",
     "language_group": "synapse_pyspark"
    }
   },
   "outputs": [
    {
     "data": {
      "application/vnd.livy.statement-meta+json": {
       "execution_finish_time": "2025-03-25T19:58:08.7477047Z",
       "execution_start_time": "2025-03-25T19:58:08.2428672Z",
       "livy_statement_state": "available",
       "normalized_state": "finished",
       "parent_msg_id": "273639b7-ffd2-4fb1-93f3-837fa7912d66",
       "queued_time": "2025-03-25T19:58:08.2412895Z",
       "session_id": "480aa9fb-fac0-4f6e-9a9c-313e347a6bf9",
       "session_start_time": null,
       "spark_pool": null,
       "state": "finished",
       "statement_id": 35,
       "statement_ids": [
        35
       ]
      },
      "text/plain": [
       "StatementMeta(, 480aa9fb-fac0-4f6e-9a9c-313e347a6bf9, 35, Finished, Available, Finished)"
      ]
     },
     "metadata": {},
     "output_type": "display_data"
    }
   ],
   "source": [
    "# function to call gpt-4o\n",
    "\n",
    "def call_azureopenai(text):\n",
    "    response = client.chat.completions.create(\n",
    "        model= AZURE_OPENAI_GPT4o_DEPLOYMENT_NAME, \n",
    "        messages= text, \n",
    "        temperature=0\n",
    "    )\n",
    "    return response.choices[0].messages.content\n"
   ]
  },
  {
   "cell_type": "code",
   "execution_count": 18,
   "id": "a5b4a5a6-ce97-4aec-a514-6e08125f420b",
   "metadata": {
    "microsoft": {
     "language": "python",
     "language_group": "synapse_pyspark"
    }
   },
   "outputs": [
    {
     "data": {
      "application/vnd.livy.statement-meta+json": {
       "execution_finish_time": "2025-03-25T19:58:15.2986651Z",
       "execution_start_time": "2025-03-25T19:58:14.879604Z",
       "livy_statement_state": "available",
       "normalized_state": "finished",
       "parent_msg_id": "fdcfa3f3-c06c-4b23-9539-a2f79f936210",
       "queued_time": "2025-03-25T19:58:14.8778165Z",
       "session_id": "480aa9fb-fac0-4f6e-9a9c-313e347a6bf9",
       "session_start_time": null,
       "spark_pool": null,
       "state": "finished",
       "statement_id": 36,
       "statement_ids": [
        36
       ]
      },
      "text/plain": [
       "StatementMeta(, 480aa9fb-fac0-4f6e-9a9c-313e347a6bf9, 36, Finished, Available, Finished)"
      ]
     },
     "metadata": {},
     "output_type": "display_data"
    }
   ],
   "source": [
    "\n",
    "\n",
    "#function to retrieve answers from embeddings with similarity search\n",
    "\n",
    "def get_answer_kustodb(question, answers=1):\n",
    "    searchedEmbedding = generate_embeddings(question)\n",
    "    str_searched_embedding = searchedEmbedding #json.dumps(searchedEmbedding)\n",
    "    kusto_query = f\"\"\"\n",
    "    {KUSTO_TABLE}\n",
    "    | extend similarity = series_cosine_similarity(dynamic({str_searched_embedding}), embedding)\n",
    "    | top {answers} by similarity desc\n",
    "    | project answer_column, similarity\n",
    "    \"\"\"\n",
    "    kustoDF = spark.read \\\n",
    "        .format(\"com.microsoft.kusto.spark.synapse.datasource\") \\\n",
    "        .option(\"kustoCluster\", KUSTO_URI) \\\n",
    "        .option(\"kustoDatabase\", KUSTO_DATABASE) \\\n",
    "        .option(\"kustoQuery\", kusto_query) \\\n",
    "        .option(\"accessToken\", KDB_ACCESSTOKEN) \\\n",
    "        .load()\n",
    "\n",
    "    return kustoDF\n"
   ]
  },
  {
   "cell_type": "markdown",
   "id": "35391e95",
   "metadata": {},
   "source": [
    "**Create functions to get answer from KustoDB and to call Azure OpenAI**"
   ]
  },
  {
   "cell_type": "code",
   "execution_count": null,
   "id": "7b475994-1e75-4584-8866-040e665ab423",
   "metadata": {
    "microsoft": {
     "language": "python",
     "language_group": "synapse_pyspark"
    }
   },
   "outputs": [
    {
     "data": {
      "application/vnd.livy.statement-meta+json": {
       "execution_finish_time": "2025-03-25T19:58:35.9354732Z",
       "execution_start_time": "2025-03-25T19:58:35.4334617Z",
       "livy_statement_state": "available",
       "normalized_state": "finished",
       "parent_msg_id": "9baa0bb3-dfb2-4973-ac94-20596b86a961",
       "queued_time": "2025-03-25T19:58:35.4317776Z",
       "session_id": "480aa9fb-fac0-4f6e-9a9c-313e347a6bf9",
       "session_start_time": null,
       "spark_pool": null,
       "state": "finished",
       "statement_id": 37,
       "statement_ids": [
        37
       ]
      },
      "text/plain": [
       "StatementMeta(, 480aa9fb-fac0-4f6e-9a9c-313e347a6bf9, 37, Finished, Available, Finished)"
      ]
     },
     "metadata": {},
     "output_type": "display_data"
    }
   ],
   "source": [
    "from pyspark.sql import SparkSession\n",
    "import json\n",
    "\n",
    "# Initialize Spark session with Kusto connector\n",
    "spark = SparkSession.builder \\\n",
    "    .appName(\"KustoSparkConnector\") \\\n",
    "    .config(\"spark.jars.packages\", \"com.microsoft.azure.kusto:spark-kusto-connector:1.0.0\") \\\n",
    "    .getOrCreate()\n",
    "\n",
    "# Function to query Kusto DB and retrieve answers based on cosine similarity\n",
    "def get_answer_kustodb(question, answers=1):\n",
    "    searched_embedding = generate_embeddings(question)\n",
    "    str_searched_embedding = json.dumps(searched_embedding)\n",
    "    kusto_query = f\"\"\"\n",
    "    {KUSTO_TABLE}\n",
    "    | extend similarity = series_cosine_similarity(dynamic({str_searched_embedding}), todynamic(embedding))\n",
    "    | top {answers} by similarity desc\n",
    "    | project content, similarity\n",
    "    \"\"\"\n",
    "\n",
    "    try:\n",
    "        kustoDF = spark.read \\\n",
    "            .format(\"com.microsoft.kusto.spark.synapse.datasource\") \\\n",
    "            .option(\"kustoCluster\", KUSTO_URI) \\\n",
    "            .option(\"kustoDatabase\", KUSTO_DATABASE) \\\n",
    "            .option(\"kustoQuery\", kusto_query) \\\n",
    "            .option(\"accessToken\", KDB_ACCESSTOKEN) \\\n",
    "            .load()\n",
    "        return kustoDF\n",
    "    except Exception as e:\n",
    "        print(f\"Error loading data from Kusto: {e}\")\n",
    "        raise\n",
    "\n",
    "\n",
    "\n",
    "\n",
    "\n"
   ]
  },
  {
   "cell_type": "code",
   "execution_count": 20,
   "id": "b2462468-48bd-4f2e-a8c2-6b092c3e9b5e",
   "metadata": {
    "microsoft": {
     "language": "python",
     "language_group": "synapse_pyspark"
    }
   },
   "outputs": [
    {
     "data": {
      "application/vnd.livy.statement-meta+json": {
       "execution_finish_time": "2025-03-25T19:58:39.7407579Z",
       "execution_start_time": "2025-03-25T19:58:39.3015025Z",
       "livy_statement_state": "available",
       "normalized_state": "finished",
       "parent_msg_id": "0ced48a4-e4ed-44bb-b688-40815bc566b1",
       "queued_time": "2025-03-25T19:58:39.2999499Z",
       "session_id": "480aa9fb-fac0-4f6e-9a9c-313e347a6bf9",
       "session_start_time": null,
       "spark_pool": null,
       "state": "finished",
       "statement_id": 38,
       "statement_ids": [
        38
       ]
      },
      "text/plain": [
       "StatementMeta(, 480aa9fb-fac0-4f6e-9a9c-313e347a6bf9, 38, Finished, Available, Finished)"
      ]
     },
     "metadata": {},
     "output_type": "display_data"
    }
   ],
   "source": [
    "def call_azureopenai(text):\n",
    "    # Ensure the input is a list of messages\n",
    "    if not isinstance(text, list):\n",
    "        raise ValueError(\"Input text must be a list of messages\")\n",
    "\n",
    "    response = client.chat.completions.create(\n",
    "        model=AZURE_OPENAI_GPT4o_DEPLOYMENT_NAME,\n",
    "        messages=text,\n",
    "        temperature=0\n",
    "    )\n",
    "\n",
    "    # Access the correct attribute for the generated text\n",
    "    try:\n",
    "        generated_text = response.choices[0].message.content\n",
    "        return generated_text\n",
    "    except AttributeError as e:\n",
    "        print(f\"Error accessing response content: {e}\")\n",
    "        print(f\"Response structure: {response}\")\n",
    "        raise\n"
   ]
  },
  {
   "cell_type": "markdown",
   "id": "d6d3d9e0",
   "metadata": {},
   "source": [
    "**Testing with questions** "
   ]
  },
  {
   "cell_type": "code",
   "execution_count": 21,
   "id": "a599818e-35e3-4849-ab37-30a2f9583f53",
   "metadata": {
    "microsoft": {
     "language": "python",
     "language_group": "synapse_pyspark"
    }
   },
   "outputs": [
    {
     "data": {
      "application/vnd.livy.statement-meta+json": {
       "execution_finish_time": "2025-03-25T20:08:05.2820736Z",
       "execution_start_time": "2025-03-25T20:07:53.2564624Z",
       "livy_statement_state": "available",
       "normalized_state": "finished",
       "parent_msg_id": "7dc82ccd-029e-4a73-98ee-954a883d3914",
       "queued_time": "2025-03-25T20:07:53.25481Z",
       "session_id": "480aa9fb-fac0-4f6e-9a9c-313e347a6bf9",
       "session_start_time": null,
       "spark_pool": null,
       "state": "finished",
       "statement_id": 39,
       "statement_ids": [
        39
       ]
      },
      "text/plain": [
       "StatementMeta(, 480aa9fb-fac0-4f6e-9a9c-313e347a6bf9, 39, Finished, Available, Finished)"
      ]
     },
     "metadata": {},
     "output_type": "display_data"
    },
    {
     "data": {
      "text/plain": [
       "'The estimated volumetric water benefit from the replenishment projects contracted in FY23 was more than 25.4 million m³ over the lifetime of these projects.'"
      ]
     },
     "metadata": {},
     "output_type": "display_data"
    }
   ],
   "source": [
    "answers = 1\n",
    "question = \"What was the estimated volumetric water benefit from the replenishment projects contracted in FY23?\"\n",
    "answers_df = get_answer_kustodb(question, answers)\n",
    "\n",
    "# Ensure 'content' is the correct column name in the DataFrame\n",
    "answer = \"\"\n",
    "try:\n",
    "    for row in answers_df.rdd.toLocalIterator():\n",
    "        answer += \" \" + row['content']\n",
    "except Exception as e:\n",
    "    print(f\"Error processing DataFrame rows: {e}\")\n",
    "    raise\n",
    "\n",
    "prompt = f'Question: {question}\\nInformation: {answer}'\n",
    "\n",
    "messages = [\n",
    "    {\"role\": \"system\", \"content\": \"You are a HELPFUL assistant answering users questions. Answer the following using the provided information and do not add anything else. Do not hallucinate\"},\n",
    "    {\"role\": \"user\", \"content\": prompt}\n",
    "]\n",
    "\n",
    "# Calling Azure OpenAI\n",
    "\n",
    "\n",
    "\n",
    "result = call_azureopenai(messages)\n",
    "display(result)"
   ]
  },
  {
   "cell_type": "code",
   "execution_count": 68,
   "id": "f66dbace-b9a7-4e35-b134-ca1dac3dbec4",
   "metadata": {
    "microsoft": {
     "language": "python",
     "language_group": "synapse_pyspark"
    }
   },
   "outputs": [
    {
     "data": {
      "application/vnd.livy.statement-meta+json": {
       "execution_finish_time": "2025-02-18T06:21:52.0874493Z",
       "execution_start_time": "2025-02-18T06:21:49.4712945Z",
       "livy_statement_state": "available",
       "normalized_state": "finished",
       "parent_msg_id": "d7115d12-b0f8-4c10-b58b-aa4a6e9f6476",
       "queued_time": "2025-02-18T06:21:49.1691356Z",
       "session_id": "256818ca-a4a0-4a3e-9d94-7c6ad228cdfd",
       "session_start_time": null,
       "spark_pool": null,
       "state": "finished",
       "statement_id": 94,
       "statement_ids": [
        94
       ]
      },
      "text/plain": [
       "StatementMeta(, 256818ca-a4a0-4a3e-9d94-7c6ad228cdfd, 94, Finished, Available, Finished)"
      ]
     },
     "metadata": {},
     "output_type": "display_data"
    },
    {
     "name": "stdout",
     "output_type": "stream",
     "text": [
      "The total amount of solid waste diverted from landfills and incinerators in FY23 is **18,537 metric tons**.\n"
     ]
    }
   ],
   "source": [
    "def answer_question(question, answers=1):\n",
    "    # Retrieve answers from Kusto DB\n",
    "    answers_df = get_answer_kustodb(question, answers)\n",
    "\n",
    "    # Ensure 'content' is the correct column name in the DataFrame\n",
    "    answer = \"\"\n",
    "    try:\n",
    "        for row in answers_df.rdd.toLocalIterator():\n",
    "            answer += \" \" + row['content']\n",
    "    except Exception as e:\n",
    "        print(f\"Error processing DataFrame rows: {e}\")\n",
    "        raise\n",
    "\n",
    "    # Construct the prompt for Azure OpenAI\n",
    "    prompt = f'Question: {question}\\nInformation: {answer}'\n",
    "\n",
    "    # Prepare the messages for Azure OpenAI\n",
    "    messages = [\n",
    "        {\"role\": \"system\", \"content\": \"You are a HELPFUL assistant answering users questions. Answer the following using the provided information and do not add anything else. Do not hallucinate\"},\n",
    "        {\"role\": \"user\", \"content\": prompt}\n",
    "    ]\n",
    "\n",
    "    # Call Azure OpenAI to get the completion response\n",
    "    result = call_azureopenai(messages)\n",
    "\n",
    "    # Return the result\n",
    "    return result\n",
    "\n",
    "# Example usage\n",
    "question = \"What is the Total amount of solid waste diverted from landfills and incinerators in FY23?\"\n",
    "result = answer_question(question)\n",
    "print(result)\n"
   ]
  },
  {
   "cell_type": "code",
   "execution_count": 69,
   "id": "a9d3c4a0-7b71-45ae-8dc5-304b90056436",
   "metadata": {
    "microsoft": {
     "language": "python",
     "language_group": "synapse_pyspark"
    }
   },
   "outputs": [
    {
     "data": {
      "application/vnd.livy.statement-meta+json": {
       "execution_finish_time": "2025-02-18T06:22:39.6326604Z",
       "execution_start_time": "2025-02-18T06:22:37.9285763Z",
       "livy_statement_state": "available",
       "normalized_state": "finished",
       "parent_msg_id": "3d680ea4-dc2e-4594-b257-a2c2d6d2ea64",
       "queued_time": "2025-02-18T06:22:37.6906239Z",
       "session_id": "256818ca-a4a0-4a3e-9d94-7c6ad228cdfd",
       "session_start_time": null,
       "spark_pool": null,
       "state": "finished",
       "statement_id": 95,
       "statement_ids": [
        95
       ]
      },
      "text/plain": [
       "StatementMeta(, 256818ca-a4a0-4a3e-9d94-7c6ad228cdfd, 95, Finished, Available, Finished)"
      ]
     },
     "metadata": {},
     "output_type": "display_data"
    },
    {
     "name": "stdout",
     "output_type": "stream",
     "text": [
      "The total amount of solid waste diverted from landfills and incinerators in FY23 is **18,537 metric tons**.\n"
     ]
    }
   ],
   "source": [
    "question = \"What is the Total amount of solid waste diverted from landfills and incinerators in FY23?\"\n",
    "result = answer_question(question)\n",
    "print(result)"
   ]
  }
 ],
 "metadata": {
  "dependencies": {
   "environment": {
    "environmentId": "c7a2ce06-72c0-4ee3-b34e-c1b9db70f204",
    "workspaceId": "9c878583-2234-4a57-962e-0e0d86aae05e"
   },
   "lakehouse": {
    "default_lakehouse": "16bb8c09-a3ac-4772-8836-fa5e125eb4a7",
    "default_lakehouse_name": "lh_factors_demo",
    "default_lakehouse_workspace_id": "9c878583-2234-4a57-962e-0e0d86aae05e"
   }
  },
  "kernel_info": {
   "name": "synapse_pyspark"
  },
  "kernelspec": {
   "display_name": "Synapse PySpark",
   "language": "Python",
   "name": "synapse_pyspark"
  },
  "language_info": {
   "name": "python"
  },
  "microsoft": {
   "language": "python",
   "language_group": "synapse_pyspark",
   "ms_spell_check": {
    "ms_spell_check_language": "en"
   }
  },
  "nteract": {
   "version": "nteract-front-end@1.0.0"
  },
  "spark_compute": {
   "compute_id": "/trident/default",
   "session_options": {
    "conf": {
     "spark.synapse.nbs.session.timeout": "1200000"
    }
   }
  }
 },
 "nbformat": 4,
 "nbformat_minor": 5
}
